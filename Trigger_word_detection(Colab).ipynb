{
  "nbformat": 4,
  "nbformat_minor": 0,
  "metadata": {
    "colab": {
      "name": "Trigger_word_detection(Colab).ipynb",
      "provenance": [],
      "collapsed_sections": []
    },
    "kernelspec": {
      "name": "python3",
      "display_name": "Python 3"
    },
    "accelerator": "GPU"
  },
  "cells": [
    {
      "cell_type": "markdown",
      "metadata": {
        "id": "OiIwzOdHpSmG",
        "colab_type": "text"
      },
      "source": [
        "# 드라이브 연동"
      ]
    },
    {
      "cell_type": "code",
      "metadata": {
        "id": "fLKiRJ7ypQwG",
        "colab_type": "code",
        "colab": {}
      },
      "source": [
        "from google.colab import drive\n",
        "\n",
        "drive.mount('/content/gdrive')"
      ],
      "execution_count": 0,
      "outputs": []
    },
    {
      "cell_type": "code",
      "metadata": {
        "id": "nB0yH9G2vb0j",
        "colab_type": "code",
        "colab": {}
      },
      "source": [
        "%cd /content/gdrive/My\\ Drive"
      ],
      "execution_count": 0,
      "outputs": []
    },
    {
      "cell_type": "code",
      "metadata": {
        "id": "i4LYgTFS4B0k",
        "colab_type": "code",
        "colab": {}
      },
      "source": [
        "#zip file을 내 드라이브에 다운받아야함\n",
        "!mkdir ./beep_data\n",
        "!unzip XY_train.zip -d ./beep_data"
      ],
      "execution_count": 0,
      "outputs": []
    },
    {
      "cell_type": "markdown",
      "metadata": {
        "id": "BHW2dUs2mPCj",
        "colab_type": "text"
      },
      "source": [
        "# Data Check"
      ]
    },
    {
      "cell_type": "code",
      "metadata": {
        "id": "VZ4MEoDvmMUt",
        "colab_type": "code",
        "colab": {}
      },
      "source": [
        "Tx = 5513     # 스펙트로그램 길이\n",
        "n_freq = 128  # 스펙트로그램 높이\n",
        "Ty = 1375     # 아웃풋 길이"
      ],
      "execution_count": 0,
      "outputs": []
    },
    {
      "cell_type": "markdown",
      "metadata": {
        "id": "q8-F0BaDiV0q",
        "colab_type": "text"
      },
      "source": [
        "# Data Loader\n",
        "- with Keras"
      ]
    },
    {
      "cell_type": "code",
      "metadata": {
        "id": "ZsCDbfMnh__i",
        "colab_type": "code",
        "colab": {}
      },
      "source": [
        "import os \n",
        "import pandas as pd\n",
        "import numpy as np\n",
        "from keras.utils import Sequence"
      ],
      "execution_count": 0,
      "outputs": []
    },
    {
      "cell_type": "code",
      "metadata": {
        "id": "kDUoWONxiAHQ",
        "colab_type": "code",
        "colab": {}
      },
      "source": [
        "data_dir = os.path.join('.','beep_data', 'XY_train')\n",
        "x_s = []\n",
        "y_s = []\n",
        "for file in os.listdir(data_dir):\n",
        "    if file.startswith('x_'):\n",
        "        x_s.append(os.path.join(data_dir,file))\n",
        "    elif file.startswith('y_'):\n",
        "        y_s.append(os.path.join(data_dir,file))\n",
        "    x_s = sorted(x_s)\n",
        "    y_s = sorted(y_s)\n",
        "df = pd.DataFrame({'x':x_s, 'y':y_s})\n",
        "df.head()"
      ],
      "execution_count": 0,
      "outputs": []
    },
    {
      "cell_type": "code",
      "metadata": {
        "id": "NYFOINh8iALQ",
        "colab_type": "code",
        "colab": {}
      },
      "source": [
        "train_ratio = 0.8\n",
        "idxs = list(range(len(df)))\n",
        "np.random.shuffle(idxs)\n",
        "train_idx = idxs[:int(len(df)*train_ratio)]\n",
        "text_idx = idxs[int(len(df)*train_ratio):]\n",
        "\n",
        "train_df = df.loc[train_idx]\n",
        "test_df = df.loc[text_idx]\n",
        "\n",
        "print(train_df.shape, test_df.shape)"
      ],
      "execution_count": 0,
      "outputs": []
    },
    {
      "cell_type": "code",
      "metadata": {
        "id": "Z280LfQtiAE5",
        "colab_type": "code",
        "colab": {}
      },
      "source": [
        "class DataGenerator(Sequence):\n",
        "    def __init__(self, df, batch_size, shuffle = True):\n",
        "        self.X = list(df.x)\n",
        "        self.y = list(df.y)\n",
        "        self.batch_size = batch_size\n",
        "        self.shuffle = shuffle\n",
        "        self.on_epoch_end()\n",
        "        \n",
        "    def on_epoch_end(self):\n",
        "        self.indexes = np.arange(len(self.X))\n",
        "        if self.shuffle:\n",
        "            np.random.shuffle(self.indexes)\n",
        "            \n",
        "    def __len__(self):\n",
        "        return int(np.floor(len(self.X) / self.batch_size))\n",
        "    \n",
        "    def __data_generation(self, X_list, y_list):\n",
        "        X = []\n",
        "        y = []\n",
        "        for i, (img, label) in enumerate(zip(X_list, y_list)):\n",
        "            X.append(np.load(img))\n",
        "            y.append(np.load(label))\n",
        "        \n",
        "        X = np.stack(X, axis=0)\n",
        "        y = np.stack(y, axis=0)\n",
        "\n",
        "        return X, y\n",
        "        \n",
        "    def __getitem__(self, index):\n",
        "        indexes = self.indexes[index * self.batch_size : (index + 1) * self.batch_size]\n",
        "        X_list = [self.X[k] for k in indexes]\n",
        "        y_list = [self.y[k] for k in indexes]\n",
        "        X, y = self.__data_generation(X_list, y_list)\n",
        "        return X, y"
      ],
      "execution_count": 0,
      "outputs": []
    },
    {
      "cell_type": "code",
      "metadata": {
        "id": "_66X3_9AiADA",
        "colab_type": "code",
        "colab": {}
      },
      "source": [
        "train_generator = DataGenerator(train_df, 5)\n",
        "test_generator = DataGenerator(test_df, 3)"
      ],
      "execution_count": 0,
      "outputs": []
    },
    {
      "cell_type": "markdown",
      "metadata": {
        "id": "ETdxTKK4l5A0",
        "colab_type": "text"
      },
      "source": [
        "# Train"
      ]
    },
    {
      "cell_type": "code",
      "metadata": {
        "id": "RH-qt8BAh_6W",
        "colab_type": "code",
        "colab": {}
      },
      "source": [
        "from keras.callbacks import ModelCheckpoint\n",
        "from keras.models import Model, load_model, Sequential\n",
        "from keras.layers import Dense, Activation, Dropout, Input, Masking, TimeDistributed, LSTM, Conv1D\n",
        "from keras.layers import GRU, Bidirectional, BatchNormalization, Reshape\n",
        "from keras.optimizers import Adam"
      ],
      "execution_count": 0,
      "outputs": []
    },
    {
      "cell_type": "code",
      "metadata": {
        "id": "TpAwM3pHh_33",
        "colab_type": "code",
        "colab": {}
      },
      "source": [
        "def make_model(input_shape):\n",
        "    \n",
        "    X_input = Input(shape = input_shape)\n",
        "    X = Conv1D(196, kernel_size=15, strides=4)(X_input)         # CONV1D\n",
        "    X = BatchNormalization()(X)                                 # Batch normalization\n",
        "    X = Activation('relu')(X)                                   # ReLu activation\n",
        "    X = Dropout(0.8)(X)                                         # dropout (use 0.8)\n",
        "\n",
        "    X = GRU(units = 128, return_sequences = True)(X)            # GRU (use 128 units and return the sequences)\n",
        "    X = Dropout(0.8)(X)                                         # dropout (use 0.8)\n",
        "    X = BatchNormalization()(X)                                 # Batch normalization\n",
        "\n",
        "    X = GRU(units = 128, return_sequences = True)(X)            # GRU (use 128 units and return the sequences)\n",
        "    X = Dropout(0.8)(X)                                         # dropout (use 0.8)\n",
        "    X = BatchNormalization()(X)                                 # Batch normalization\n",
        "    X = Dropout(0.8)(X)                                         # dropout (use 0.8)\n",
        "\n",
        "    X = TimeDistributed(Dense(1, activation = \"sigmoid\"))(X)    # time distributed  (sigmoid)\n",
        "\n",
        "    model = Model(inputs = X_input, outputs = X)\n",
        "    return model"
      ],
      "execution_count": 0,
      "outputs": []
    },
    {
      "cell_type": "code",
      "metadata": {
        "id": "MiSUrU2rl_t7",
        "colab_type": "code",
        "outputId": "a30fb580-a863-46b5-d7fd-ef0cb965bc79",
        "colab": {
          "base_uri": "https://localhost:8080/",
          "height": 301
        }
      },
      "source": [
        "model = make_model(input_shape = (Tx, n_freq))"
      ],
      "execution_count": 7,
      "outputs": [
        {
          "output_type": "stream",
          "text": [
            "WARNING:tensorflow:From /usr/local/lib/python3.6/dist-packages/keras/backend/tensorflow_backend.py:66: The name tf.get_default_graph is deprecated. Please use tf.compat.v1.get_default_graph instead.\n",
            "\n",
            "WARNING:tensorflow:From /usr/local/lib/python3.6/dist-packages/keras/backend/tensorflow_backend.py:541: The name tf.placeholder is deprecated. Please use tf.compat.v1.placeholder instead.\n",
            "\n",
            "WARNING:tensorflow:From /usr/local/lib/python3.6/dist-packages/keras/backend/tensorflow_backend.py:4432: The name tf.random_uniform is deprecated. Please use tf.random.uniform instead.\n",
            "\n",
            "WARNING:tensorflow:From /usr/local/lib/python3.6/dist-packages/keras/backend/tensorflow_backend.py:148: The name tf.placeholder_with_default is deprecated. Please use tf.compat.v1.placeholder_with_default instead.\n",
            "\n",
            "WARNING:tensorflow:From /usr/local/lib/python3.6/dist-packages/keras/backend/tensorflow_backend.py:3733: calling dropout (from tensorflow.python.ops.nn_ops) with keep_prob is deprecated and will be removed in a future version.\n",
            "Instructions for updating:\n",
            "Please use `rate` instead of `keep_prob`. Rate should be set to `rate = 1 - keep_prob`.\n",
            "WARNING:tensorflow:Large dropout rate: 0.8 (>0.5). In TensorFlow 2.x, dropout() uses dropout rate instead of keep_prob. Please ensure that this is intended.\n",
            "WARNING:tensorflow:Large dropout rate: 0.8 (>0.5). In TensorFlow 2.x, dropout() uses dropout rate instead of keep_prob. Please ensure that this is intended.\n",
            "WARNING:tensorflow:Large dropout rate: 0.8 (>0.5). In TensorFlow 2.x, dropout() uses dropout rate instead of keep_prob. Please ensure that this is intended.\n",
            "WARNING:tensorflow:Large dropout rate: 0.8 (>0.5). In TensorFlow 2.x, dropout() uses dropout rate instead of keep_prob. Please ensure that this is intended.\n"
          ],
          "name": "stdout"
        }
      ]
    },
    {
      "cell_type": "code",
      "metadata": {
        "id": "Zs7RoVU8mDIf",
        "colab_type": "code",
        "outputId": "099b8010-8868-401a-cf99-ab08b862fdef",
        "colab": {
          "base_uri": "https://localhost:8080/",
          "height": 615
        }
      },
      "source": [
        "model.summary()"
      ],
      "execution_count": 8,
      "outputs": [
        {
          "output_type": "stream",
          "text": [
            "Model: \"model_1\"\n",
            "_________________________________________________________________\n",
            "Layer (type)                 Output Shape              Param #   \n",
            "=================================================================\n",
            "input_1 (InputLayer)         (None, 5513, 128)         0         \n",
            "_________________________________________________________________\n",
            "conv1d_1 (Conv1D)            (None, 1375, 196)         376516    \n",
            "_________________________________________________________________\n",
            "batch_normalization_1 (Batch (None, 1375, 196)         784       \n",
            "_________________________________________________________________\n",
            "activation_1 (Activation)    (None, 1375, 196)         0         \n",
            "_________________________________________________________________\n",
            "dropout_1 (Dropout)          (None, 1375, 196)         0         \n",
            "_________________________________________________________________\n",
            "gru_1 (GRU)                  (None, 1375, 128)         124800    \n",
            "_________________________________________________________________\n",
            "dropout_2 (Dropout)          (None, 1375, 128)         0         \n",
            "_________________________________________________________________\n",
            "batch_normalization_2 (Batch (None, 1375, 128)         512       \n",
            "_________________________________________________________________\n",
            "gru_2 (GRU)                  (None, 1375, 128)         98688     \n",
            "_________________________________________________________________\n",
            "dropout_3 (Dropout)          (None, 1375, 128)         0         \n",
            "_________________________________________________________________\n",
            "batch_normalization_3 (Batch (None, 1375, 128)         512       \n",
            "_________________________________________________________________\n",
            "dropout_4 (Dropout)          (None, 1375, 128)         0         \n",
            "_________________________________________________________________\n",
            "time_distributed_1 (TimeDist (None, 1375, 1)           129       \n",
            "=================================================================\n",
            "Total params: 601,941\n",
            "Trainable params: 601,037\n",
            "Non-trainable params: 904\n",
            "_________________________________________________________________\n"
          ],
          "name": "stdout"
        }
      ]
    },
    {
      "cell_type": "code",
      "metadata": {
        "id": "PqRyCNhLoa7L",
        "colab_type": "code",
        "outputId": "546ade74-bfc4-43c9-f717-638a612a85f4",
        "colab": {
          "base_uri": "https://localhost:8080/",
          "height": 160
        }
      },
      "source": [
        "opt = Adam(lr=0.0001, beta_1=0.9, beta_2=0.999, decay=0.01)\n",
        "model.compile(loss='binary_crossentropy', optimizer=opt, metrics=[\"accuracy\"])"
      ],
      "execution_count": 9,
      "outputs": [
        {
          "output_type": "stream",
          "text": [
            "WARNING:tensorflow:From /usr/local/lib/python3.6/dist-packages/keras/optimizers.py:793: The name tf.train.Optimizer is deprecated. Please use tf.compat.v1.train.Optimizer instead.\n",
            "\n",
            "WARNING:tensorflow:From /usr/local/lib/python3.6/dist-packages/keras/backend/tensorflow_backend.py:3657: The name tf.log is deprecated. Please use tf.math.log instead.\n",
            "\n",
            "WARNING:tensorflow:From /usr/local/lib/python3.6/dist-packages/tensorflow_core/python/ops/nn_impl.py:183: where (from tensorflow.python.ops.array_ops) is deprecated and will be removed in a future version.\n",
            "Instructions for updating:\n",
            "Use tf.where in 2.0, which has the same broadcast rule as np.where\n"
          ],
          "name": "stdout"
        }
      ]
    },
    {
      "cell_type": "code",
      "metadata": {
        "id": "_T1lKfFIodsz",
        "colab_type": "code",
        "outputId": "f6028f40-c443-4986-c614-12a43c1b5e8c",
        "colab": {
          "base_uri": "https://localhost:8080/",
          "height": 204
        }
      },
      "source": [
        "model.fit_generator(generator=train_generator,\n",
        "                    validation_data=test_generator,\n",
        "                    epochs = 10)"
      ],
      "execution_count": 11,
      "outputs": [
        {
          "output_type": "error",
          "ename": "NameError",
          "evalue": "ignored",
          "traceback": [
            "\u001b[0;31m---------------------------------------------------------------------------\u001b[0m",
            "\u001b[0;31mNameError\u001b[0m                                 Traceback (most recent call last)",
            "\u001b[0;32m<ipython-input-11-d996f369b986>\u001b[0m in \u001b[0;36m<module>\u001b[0;34m()\u001b[0m\n\u001b[0;32m----> 1\u001b[0;31m model.fit_generator(generator=train_generator,\n\u001b[0m\u001b[1;32m      2\u001b[0m                     \u001b[0mvalidation_data\u001b[0m\u001b[0;34m=\u001b[0m\u001b[0mtest_generator\u001b[0m\u001b[0;34m,\u001b[0m\u001b[0;34m\u001b[0m\u001b[0;34m\u001b[0m\u001b[0m\n\u001b[1;32m      3\u001b[0m                     epochs = 10)\n",
            "\u001b[0;31mNameError\u001b[0m: name 'train_generator' is not defined"
          ]
        }
      ]
    },
    {
      "cell_type": "code",
      "metadata": {
        "id": "7uYQmO4oof2R",
        "colab_type": "code",
        "colab": {}
      },
      "source": [
        "loss, acc = model.evaluate(X_dev, Y_dev)\n",
        "print(\"Dev set accuracy = \", acc)"
      ],
      "execution_count": 0,
      "outputs": []
    },
    {
      "cell_type": "markdown",
      "metadata": {
        "id": "SwDmYxcXo1nw",
        "colab_type": "text"
      },
      "source": [
        "# RealTime?"
      ]
    },
    {
      "cell_type": "code",
      "metadata": {
        "id": "RnboeFsyoht-",
        "colab_type": "code",
        "colab": {}
      },
      "source": [
        "def detect_triggerword(filename):\n",
        "    plt.subplot(2, 1, 1)\n",
        "\n",
        "    x = graph_spectrogram(filename)\n",
        "    # the spectogram outputs (freqs, Tx) and we want (Tx, freqs) to input into the model\n",
        "    x  = x.swapaxes(0,1)\n",
        "    x = np.expand_dims(x, axis=0)\n",
        "    predictions = model.predict(x)\n",
        "    \n",
        "    plt.subplot(2, 1, 2)\n",
        "    plt.plot(predictions[0,:,0])\n",
        "    plt.ylabel('probability')\n",
        "    plt.show()\n",
        "    return predictions"
      ],
      "execution_count": 0,
      "outputs": []
    },
    {
      "cell_type": "code",
      "metadata": {
        "id": "5kCN_PG4o8-u",
        "colab_type": "code",
        "colab": {}
      },
      "source": [
        "chime_file = \"audio_examples/chime.wav\"\n",
        "def chime_on_activate(filename, predictions, threshold):\n",
        "    audio_clip = AudioSegment.from_wav(filename)\n",
        "    chime = AudioSegment.from_wav(chime_file)\n",
        "    Ty = predictions.shape[1]\n",
        "    # Step 1: Initialize the number of consecutive output steps to 0\n",
        "    consecutive_timesteps = 0\n",
        "    # Step 2: Loop over the output steps in the y\n",
        "    for i in range(Ty):\n",
        "        # Step 3: Increment consecutive output steps\n",
        "        consecutive_timesteps += 1\n",
        "        # Step 4: If prediction is higher than the threshold and more than 75 consecutive output steps have passed\n",
        "        if predictions[0,i,0] > threshold and consecutive_timesteps > 75:\n",
        "            # Step 5: Superpose audio and background using pydub\n",
        "            audio_clip = audio_clip.overlay(chime, position = ((i / Ty) * audio_clip.duration_seconds)*1000)\n",
        "            # Step 6: Reset consecutive output steps to 0\n",
        "            consecutive_timesteps = 0\n",
        "        \n",
        "    audio_clip.export(\"chime_output.wav\", format='wav')\n"
      ],
      "execution_count": 0,
      "outputs": []
    },
    {
      "cell_type": "code",
      "metadata": {
        "id": "Gyj4mP00o9O5",
        "colab_type": "code",
        "colab": {}
      },
      "source": [
        "filename = \"./raw_data/dev/1.wav\"\n",
        "prediction = detect_triggerword(filename)\n",
        "chime_on_activate(filename, prediction, 0.5)\n",
        "IPython.display.Audio(\"./chime_output.wav\")"
      ],
      "execution_count": 0,
      "outputs": []
    },
    {
      "cell_type": "code",
      "metadata": {
        "id": "ddCy8S2Fo_HQ",
        "colab_type": "code",
        "colab": {}
      },
      "source": [
        "# Preprocess the audio to the correct format\n",
        "def preprocess_audio(filename):\n",
        "    # Trim or pad audio segment to 10000ms\n",
        "    padding = AudioSegment.silent(duration=10000)\n",
        "    segment = AudioSegment.from_wav(filename)[:10000]\n",
        "    segment = padding.overlay(segment)\n",
        "    # Set frame rate to 44100\n",
        "    segment = segment.set_frame_rate(44100)\n",
        "    # Export as wav\n",
        "    segment.export(filename, format='wav')"
      ],
      "execution_count": 0,
      "outputs": []
    },
    {
      "cell_type": "code",
      "metadata": {
        "id": "VJVPVajbpBFQ",
        "colab_type": "code",
        "colab": {}
      },
      "source": [
        "your_filename = \"audio_examples/my_audio.wav\""
      ],
      "execution_count": 0,
      "outputs": []
    },
    {
      "cell_type": "code",
      "metadata": {
        "id": "nQi0LhH3pFyg",
        "colab_type": "code",
        "colab": {}
      },
      "source": [
        "preprocess_audio(your_filename)\n",
        "IPython.display.Audio(your_filename) # listen to the audio you uploaded"
      ],
      "execution_count": 0,
      "outputs": []
    },
    {
      "cell_type": "code",
      "metadata": {
        "id": "NbFz9SK3pKH6",
        "colab_type": "code",
        "colab": {}
      },
      "source": [
        "chime_threshold = 0.5\n",
        "prediction = detect_triggerword(your_filename)\n",
        "chime_on_activate(your_filename, prediction, chime_threshold)\n",
        "IPython.display.Audio(\"./chime_output.wav\")"
      ],
      "execution_count": 0,
      "outputs": []
    },
    {
      "cell_type": "code",
      "metadata": {
        "id": "ysw4I2JSpO4u",
        "colab_type": "code",
        "colab": {}
      },
      "source": [
        ""
      ],
      "execution_count": 0,
      "outputs": []
    }
  ]
}