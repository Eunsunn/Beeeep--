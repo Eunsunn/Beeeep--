{
 "cells": [
  {
   "cell_type": "code",
   "execution_count": null,
   "metadata": {},
   "outputs": [],
   "source": [
    "## ffmpeg 설치필요\n",
    "import librosa\n",
    "import librosa.display\n",
    "import os\n",
    "import numpy as np\n",
    "import matplotlib.pyplot as plt\n",
    "import pandas as pd"
   ]
  },
  {
   "cell_type": "code",
   "execution_count": null,
   "metadata": {},
   "outputs": [],
   "source": [
    "def make_dir(dir_):\n",
    "    if not os.path.isdir(dir_):\n",
    "        os.mkdir(dir_)\n",
    "    \n",
    "img_dir = os.path.join('.', 'data', 'image')\n",
    "make_dir(img_dir)"
   ]
  },
  {
   "cell_type": "code",
   "execution_count": null,
   "metadata": {},
   "outputs": [],
   "source": [
    "df = pd.read_csv('audios_texts_length_labels.csv', encoding='ms949')"
   ]
  },
  {
   "cell_type": "code",
   "execution_count": null,
   "metadata": {},
   "outputs": [],
   "source": [
    "# #자르는 기준\n",
    "# crit = np.percentile(df.length, 90)\n",
    "# crit_y, crit_sr = librosa.load(df.audio[df[df.length==crit].index[0]])\n",
    "# len(crit_y) #926100"
   ]
  },
  {
   "cell_type": "code",
   "execution_count": null,
   "metadata": {},
   "outputs": [],
   "source": [
    "for audio in df.audio:\n",
    "    wav = audio\n",
    "    (file_dir, file_id) = os.path.split(wav)\n",
    "    name = file_id.split(\".\")[0]\n",
    "    y, sr = librosa.load(wav, sr=16000)\n",
    "    out_y = librosa.util.fix_length(y, 926100)\n",
    "    S = librosa.feature.melspectrogram(out_y, sr=sr, n_mels=128) \n",
    "    log_S = librosa.core.power_to_db(S, ref=np.max)\n",
    "    save_path = os.path.join(img_dir, name)\n",
    "    plt.imsave(save_path, log_S)"
   ]
  },
  {
   "cell_type": "code",
   "execution_count": null,
   "metadata": {},
   "outputs": [],
   "source": [
    "plt.figure(figsize=(12, 4))\n",
    "librosa.display.specshow(log_S, sr=sr, x_axis='time', y_axis='mel')\n",
    "plt.title('mel power spectrogram')\n",
    "plt.colorbar(format='%+02.0f dB')\n",
    "plt.tight_layout()\n",
    "plt.show()"
   ]
  }
 ],
 "metadata": {
  "kernelspec": {
   "display_name": "Python 3",
   "language": "python",
   "name": "python3"
  },
  "language_info": {
   "codemirror_mode": {
    "name": "ipython",
    "version": 3
   },
   "file_extension": ".py",
   "mimetype": "text/x-python",
   "name": "python",
   "nbconvert_exporter": "python",
   "pygments_lexer": "ipython3",
   "version": "3.5.6"
  }
 },
 "nbformat": 4,
 "nbformat_minor": 2
}
